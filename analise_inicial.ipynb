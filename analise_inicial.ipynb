{
 "cells": [
  {
   "cell_type": "code",
   "execution_count": 10,
   "metadata": {},
   "outputs": [],
   "source": [
    "import pandas as pd\n",
    "from langdetect import detect"
   ]
  },
  {
   "cell_type": "code",
   "execution_count": 7,
   "metadata": {},
   "outputs": [
    {
     "name": "stdout",
     "output_type": "stream",
     "text": [
      "['Pabllo Vittar' 'Anitta']\n"
     ]
    },
    {
     "data": {
      "text/html": [
       "<div>\n",
       "<style scoped>\n",
       "    .dataframe tbody tr th:only-of-type {\n",
       "        vertical-align: middle;\n",
       "    }\n",
       "\n",
       "    .dataframe tbody tr th {\n",
       "        vertical-align: top;\n",
       "    }\n",
       "\n",
       "    .dataframe thead th {\n",
       "        text-align: right;\n",
       "    }\n",
       "</style>\n",
       "<table border=\"1\" class=\"dataframe\">\n",
       "  <thead>\n",
       "    <tr style=\"text-align: right;\">\n",
       "      <th></th>\n",
       "      <th>id</th>\n",
       "      <th>artista</th>\n",
       "      <th>link</th>\n",
       "      <th>titulo</th>\n",
       "      <th>letra</th>\n",
       "    </tr>\n",
       "  </thead>\n",
       "  <tbody>\n",
       "    <tr>\n",
       "      <th>0</th>\n",
       "      <td>0</td>\n",
       "      <td>Pabllo Vittar</td>\n",
       "      <td>https://www.vagalume.com.br/pabllo-vittar/foll...</td>\n",
       "      <td>Follow Me (Ft. Rina Sawayama)</td>\n",
       "      <td>Have you ever felt like, like you're not enoug...</td>\n",
       "    </tr>\n",
       "    <tr>\n",
       "      <th>1</th>\n",
       "      <td>1</td>\n",
       "      <td>Pabllo Vittar</td>\n",
       "      <td>https://www.vagalume.com.br/pabllo-vittar/para...</td>\n",
       "      <td>Parabéns (Part. Psirico)</td>\n",
       "      <td>Hoje é um dia especialTe dou um presente você ...</td>\n",
       "    </tr>\n",
       "    <tr>\n",
       "      <th>2</th>\n",
       "      <td>2</td>\n",
       "      <td>Pabllo Vittar</td>\n",
       "      <td>https://www.vagalume.com.br/pabllo-vittar/inde...</td>\n",
       "      <td>Indestrutível</td>\n",
       "      <td>Eu sei que tudo vai ficar bemE as minhas lagri...</td>\n",
       "    </tr>\n",
       "    <tr>\n",
       "      <th>3</th>\n",
       "      <td>3</td>\n",
       "      <td>Pabllo Vittar</td>\n",
       "      <td>https://www.vagalume.com.br/pabllo-vittar/amor...</td>\n",
       "      <td>Amor de Que</td>\n",
       "      <td>O que os olhos não veem o coração não senteEu ...</td>\n",
       "    </tr>\n",
       "    <tr>\n",
       "      <th>4</th>\n",
       "      <td>4</td>\n",
       "      <td>Pabllo Vittar</td>\n",
       "      <td>https://www.vagalume.com.br/pabllo-vittar/ama-...</td>\n",
       "      <td>Ama Sofre Chora</td>\n",
       "      <td>Você diz que meu amor não é pra casarAinda ri ...</td>\n",
       "    </tr>\n",
       "  </tbody>\n",
       "</table>\n",
       "</div>"
      ],
      "text/plain": [
       "   id        artista                                               link  \\\n",
       "0   0  Pabllo Vittar  https://www.vagalume.com.br/pabllo-vittar/foll...   \n",
       "1   1  Pabllo Vittar  https://www.vagalume.com.br/pabllo-vittar/para...   \n",
       "2   2  Pabllo Vittar  https://www.vagalume.com.br/pabllo-vittar/inde...   \n",
       "3   3  Pabllo Vittar  https://www.vagalume.com.br/pabllo-vittar/amor...   \n",
       "4   4  Pabllo Vittar  https://www.vagalume.com.br/pabllo-vittar/ama-...   \n",
       "\n",
       "                          titulo  \\\n",
       "0  Follow Me (Ft. Rina Sawayama)   \n",
       "1       Parabéns (Part. Psirico)   \n",
       "2                  Indestrutível   \n",
       "3                    Amor de Que   \n",
       "4                Ama Sofre Chora   \n",
       "\n",
       "                                               letra  \n",
       "0  Have you ever felt like, like you're not enoug...  \n",
       "1  Hoje é um dia especialTe dou um presente você ...  \n",
       "2  Eu sei que tudo vai ficar bemE as minhas lagri...  \n",
       "3  O que os olhos não veem o coração não senteEu ...  \n",
       "4  Você diz que meu amor não é pra casarAinda ri ...  "
      ]
     },
     "execution_count": 7,
     "metadata": {},
     "output_type": "execute_result"
    }
   ],
   "source": [
    "musicas = pd.read_csv('web_crawler_musicas.csv')\n",
    "\n",
    "musicas.artista.unique()"
   ]
  },
  {
   "cell_type": "code",
   "execution_count": 12,
   "metadata": {},
   "outputs": [
    {
     "data": {
      "text/html": [
       "<div>\n",
       "<style scoped>\n",
       "    .dataframe tbody tr th:only-of-type {\n",
       "        vertical-align: middle;\n",
       "    }\n",
       "\n",
       "    .dataframe tbody tr th {\n",
       "        vertical-align: top;\n",
       "    }\n",
       "\n",
       "    .dataframe thead th {\n",
       "        text-align: right;\n",
       "    }\n",
       "</style>\n",
       "<table border=\"1\" class=\"dataframe\">\n",
       "  <thead>\n",
       "    <tr style=\"text-align: right;\">\n",
       "      <th></th>\n",
       "      <th>id</th>\n",
       "      <th>artista</th>\n",
       "      <th>link</th>\n",
       "      <th>titulo</th>\n",
       "      <th>letra</th>\n",
       "      <th>is_english</th>\n",
       "    </tr>\n",
       "  </thead>\n",
       "  <tbody>\n",
       "    <tr>\n",
       "      <th>0</th>\n",
       "      <td>0</td>\n",
       "      <td>Pabllo Vittar</td>\n",
       "      <td>https://www.vagalume.com.br/pabllo-vittar/foll...</td>\n",
       "      <td>Follow Me (Ft. Rina Sawayama)</td>\n",
       "      <td>Have you ever felt like, like you're not enoug...</td>\n",
       "      <td>1</td>\n",
       "    </tr>\n",
       "    <tr>\n",
       "      <th>1</th>\n",
       "      <td>1</td>\n",
       "      <td>Pabllo Vittar</td>\n",
       "      <td>https://www.vagalume.com.br/pabllo-vittar/para...</td>\n",
       "      <td>Parabéns (Part. Psirico)</td>\n",
       "      <td>Hoje é um dia especialTe dou um presente você ...</td>\n",
       "      <td>0</td>\n",
       "    </tr>\n",
       "    <tr>\n",
       "      <th>2</th>\n",
       "      <td>2</td>\n",
       "      <td>Pabllo Vittar</td>\n",
       "      <td>https://www.vagalume.com.br/pabllo-vittar/inde...</td>\n",
       "      <td>Indestrutível</td>\n",
       "      <td>Eu sei que tudo vai ficar bemE as minhas lagri...</td>\n",
       "      <td>0</td>\n",
       "    </tr>\n",
       "    <tr>\n",
       "      <th>3</th>\n",
       "      <td>3</td>\n",
       "      <td>Pabllo Vittar</td>\n",
       "      <td>https://www.vagalume.com.br/pabllo-vittar/amor...</td>\n",
       "      <td>Amor de Que</td>\n",
       "      <td>O que os olhos não veem o coração não senteEu ...</td>\n",
       "      <td>0</td>\n",
       "    </tr>\n",
       "    <tr>\n",
       "      <th>4</th>\n",
       "      <td>4</td>\n",
       "      <td>Pabllo Vittar</td>\n",
       "      <td>https://www.vagalume.com.br/pabllo-vittar/ama-...</td>\n",
       "      <td>Ama Sofre Chora</td>\n",
       "      <td>Você diz que meu amor não é pra casarAinda ri ...</td>\n",
       "      <td>0</td>\n",
       "    </tr>\n",
       "  </tbody>\n",
       "</table>\n",
       "</div>"
      ],
      "text/plain": [
       "   id        artista                                               link  \\\n",
       "0   0  Pabllo Vittar  https://www.vagalume.com.br/pabllo-vittar/foll...   \n",
       "1   1  Pabllo Vittar  https://www.vagalume.com.br/pabllo-vittar/para...   \n",
       "2   2  Pabllo Vittar  https://www.vagalume.com.br/pabllo-vittar/inde...   \n",
       "3   3  Pabllo Vittar  https://www.vagalume.com.br/pabllo-vittar/amor...   \n",
       "4   4  Pabllo Vittar  https://www.vagalume.com.br/pabllo-vittar/ama-...   \n",
       "\n",
       "                          titulo  \\\n",
       "0  Follow Me (Ft. Rina Sawayama)   \n",
       "1       Parabéns (Part. Psirico)   \n",
       "2                  Indestrutível   \n",
       "3                    Amor de Que   \n",
       "4                Ama Sofre Chora   \n",
       "\n",
       "                                               letra  is_english  \n",
       "0  Have you ever felt like, like you're not enoug...           1  \n",
       "1  Hoje é um dia especialTe dou um presente você ...           0  \n",
       "2  Eu sei que tudo vai ficar bemE as minhas lagri...           0  \n",
       "3  O que os olhos não veem o coração não senteEu ...           0  \n",
       "4  Você diz que meu amor não é pra casarAinda ri ...           0  "
      ]
     },
     "execution_count": 12,
     "metadata": {},
     "output_type": "execute_result"
    }
   ],
   "source": [
    "# Create a new column called is_english\n",
    "musicas['is_english'] = musicas.letra.apply(lambda x: int(detect(x) == 'en'))\n",
    "\n",
    "musicas.head()"
   ]
  },
  {
   "cell_type": "markdown",
   "metadata": {},
   "source": [
    "Separando musicas em ingles da Anitta e da Pabllo"
   ]
  },
  {
   "cell_type": "code",
   "execution_count": 24,
   "metadata": {},
   "outputs": [
    {
     "name": "stderr",
     "output_type": "stream",
     "text": [
      "C:\\Users\\SAMUEL~1\\AppData\\Local\\Temp/ipykernel_14188/590639853.py:1: UserWarning: Boolean Series key will be reindexed to match DataFrame index.\n",
      "  anitta = musicas[musicas.artista == 'Anitta'][musicas.is_english == 0]\n",
      "C:\\Users\\SAMUEL~1\\AppData\\Local\\Temp/ipykernel_14188/590639853.py:2: UserWarning: Boolean Series key will be reindexed to match DataFrame index.\n",
      "  en_anitta = musicas[musicas.artista == 'Anitta'][musicas.is_english == 1]\n",
      "C:\\Users\\SAMUEL~1\\AppData\\Local\\Temp/ipykernel_14188/590639853.py:4: UserWarning: Boolean Series key will be reindexed to match DataFrame index.\n",
      "  pabllo = musicas[musicas.artista == 'Pabllo Vittar'][musicas.is_english == 0]\n",
      "C:\\Users\\SAMUEL~1\\AppData\\Local\\Temp/ipykernel_14188/590639853.py:5: UserWarning: Boolean Series key will be reindexed to match DataFrame index.\n",
      "  en_pabllo = musicas[musicas.artista == 'Pabllo Vittar'][musicas.is_english == 1]\n"
     ]
    }
   ],
   "source": [
    "anitta = musicas[musicas.artista == 'Anitta'][musicas.is_english == 0]\n",
    "en_anitta = musicas[musicas.artista == 'Anitta'][musicas.is_english == 1]\n",
    "\n",
    "pabllo = musicas[musicas.artista == 'Pabllo Vittar'][musicas.is_english == 0]\n",
    "en_pabllo = musicas[musicas.artista == 'Pabllo Vittar'][musicas.is_english == 1]"
   ]
  },
  {
   "cell_type": "markdown",
   "metadata": {},
   "source": [
    "Verificando as palavras mais relevantes presentes nas musicas da Anitta"
   ]
  },
  {
   "cell_type": "code",
   "execution_count": null,
   "metadata": {},
   "outputs": [],
   "source": []
  },
  {
   "cell_type": "code",
   "execution_count": null,
   "metadata": {},
   "outputs": [],
   "source": []
  },
  {
   "cell_type": "code",
   "execution_count": null,
   "metadata": {},
   "outputs": [],
   "source": []
  }
 ],
 "metadata": {
  "interpreter": {
   "hash": "5c3287ab17e47dd7ac7fc5be900277ac4992a04cd3bb81fb95e4163ad76dc45f"
  },
  "kernelspec": {
   "display_name": "Python 3.10.2 64-bit",
   "language": "python",
   "name": "python3"
  },
  "language_info": {
   "codemirror_mode": {
    "name": "ipython",
    "version": 3
   },
   "file_extension": ".py",
   "mimetype": "text/x-python",
   "name": "python",
   "nbconvert_exporter": "python",
   "pygments_lexer": "ipython3",
   "version": "3.9.7"
  },
  "orig_nbformat": 4
 },
 "nbformat": 4,
 "nbformat_minor": 2
}
