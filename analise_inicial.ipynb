{
 "cells": [
  {
   "cell_type": "markdown",
   "metadata": {},
   "source": [
    "# Imports"
   ]
  },
  {
   "cell_type": "code",
   "execution_count": 50,
   "metadata": {},
   "outputs": [
    {
     "name": "stderr",
     "output_type": "stream",
     "text": [
      "[nltk_data] Downloading package stopwords to\n",
      "[nltk_data]     C:\\Users\\SamuelPorto\\AppData\\Roaming\\nltk_data...\n",
      "[nltk_data]   Package stopwords is already up-to-date!\n"
     ]
    },
    {
     "data": {
      "text/plain": [
       "True"
      ]
     },
     "execution_count": 50,
     "metadata": {},
     "output_type": "execute_result"
    }
   ],
   "source": [
    "import re\n",
    "import nltk\n",
    "import string\n",
    "import numpy as np\n",
    "import pandas as pd\n",
    "from langdetect import detect\n",
    "from nltk.corpus import stopwords\n",
    "\n",
    "nltk.download('stopwords')"
   ]
  },
  {
   "cell_type": "markdown",
   "metadata": {},
   "source": [
    "# Functions"
   ]
  },
  {
   "cell_type": "code",
   "execution_count": 51,
   "metadata": {},
   "outputs": [],
   "source": [
    "# Faz o filtro de stop words, pontuações e POS\n",
    "def filter_serie(serie):\n",
    "\n",
    "    sw = stopwords.words('portuguese')\n",
    "\n",
    "    serie = serie.apply(lambda x: ''.join([word for word in x if word not in (string.punctuation)]))\n",
    "\n",
    "    serie = serie.apply(lambda x: ' '.join([word for word in x.lower().split() if word not in (sw)]))\n",
    "\n",
    "    return serie"
   ]
  },
  {
   "cell_type": "markdown",
   "metadata": {},
   "source": [
    "# Load the Data"
   ]
  },
  {
   "cell_type": "code",
   "execution_count": 52,
   "metadata": {},
   "outputs": [
    {
     "data": {
      "text/plain": [
       "array(['Anitta', 'Pabllo Vittar'], dtype=object)"
      ]
     },
     "execution_count": 52,
     "metadata": {},
     "output_type": "execute_result"
    }
   ],
   "source": [
    "musicas = pd.read_csv('web_crawler_musicas.csv')\n",
    "\n",
    "musicas.artista.unique()"
   ]
  },
  {
   "cell_type": "code",
   "execution_count": 58,
   "metadata": {},
   "outputs": [
    {
     "data": {
      "text/html": [
       "<div>\n",
       "<style scoped>\n",
       "    .dataframe tbody tr th:only-of-type {\n",
       "        vertical-align: middle;\n",
       "    }\n",
       "\n",
       "    .dataframe tbody tr th {\n",
       "        vertical-align: top;\n",
       "    }\n",
       "\n",
       "    .dataframe thead th {\n",
       "        text-align: right;\n",
       "    }\n",
       "</style>\n",
       "<table border=\"1\" class=\"dataframe\">\n",
       "  <thead>\n",
       "    <tr style=\"text-align: right;\">\n",
       "      <th></th>\n",
       "      <th>id</th>\n",
       "      <th>artista</th>\n",
       "      <th>link</th>\n",
       "      <th>titulo</th>\n",
       "      <th>letra</th>\n",
       "      <th>is_english</th>\n",
       "      <th>is_portuguese</th>\n",
       "      <th>is_spanish</th>\n",
       "    </tr>\n",
       "  </thead>\n",
       "  <tbody>\n",
       "    <tr>\n",
       "      <th>0</th>\n",
       "      <td>381</td>\n",
       "      <td>Anitta</td>\n",
       "      <td>https://www.vagalume.com.br/anitta/delirio.html</td>\n",
       "      <td>Delirio</td>\n",
       "      <td>Si pudiera expresarte Cómo es de inmenso En el...</td>\n",
       "      <td>0</td>\n",
       "      <td>0</td>\n",
       "      <td>1</td>\n",
       "    </tr>\n",
       "    <tr>\n",
       "      <th>1</th>\n",
       "      <td>408</td>\n",
       "      <td>Pabllo Vittar</td>\n",
       "      <td>https://www.vagalume.com.br/pabllo-vittar/pron...</td>\n",
       "      <td>Pronto Pra Te Amar</td>\n",
       "      <td>Quero ouvir um sim Deixa o sentimento fluir Ve...</td>\n",
       "      <td>0</td>\n",
       "      <td>1</td>\n",
       "      <td>0</td>\n",
       "    </tr>\n",
       "    <tr>\n",
       "      <th>2</th>\n",
       "      <td>416</td>\n",
       "      <td>Anitta</td>\n",
       "      <td>https://www.vagalume.com.br/anitta/menina-ma.html</td>\n",
       "      <td>Menina Má</td>\n",
       "      <td>Me olha e deseja que eu veja Mas já digo: \"não...</td>\n",
       "      <td>0</td>\n",
       "      <td>1</td>\n",
       "      <td>0</td>\n",
       "    </tr>\n",
       "    <tr>\n",
       "      <th>3</th>\n",
       "      <td>419</td>\n",
       "      <td>Anitta</td>\n",
       "      <td>https://www.vagalume.com.br/anitta/vambora.html</td>\n",
       "      <td>Vambora</td>\n",
       "      <td>Entre por essa porta agora E diga que me adora...</td>\n",
       "      <td>0</td>\n",
       "      <td>1</td>\n",
       "      <td>0</td>\n",
       "    </tr>\n",
       "    <tr>\n",
       "      <th>4</th>\n",
       "      <td>441</td>\n",
       "      <td>Anitta</td>\n",
       "      <td>https://www.vagalume.com.br/anitta/clube-da-an...</td>\n",
       "      <td>Clube da Anittinha</td>\n",
       "      <td>É o clube da anittinha Vem pra cá brincar Pula...</td>\n",
       "      <td>0</td>\n",
       "      <td>1</td>\n",
       "      <td>0</td>\n",
       "    </tr>\n",
       "  </tbody>\n",
       "</table>\n",
       "</div>"
      ],
      "text/plain": [
       "    id        artista                                               link  \\\n",
       "0  381         Anitta    https://www.vagalume.com.br/anitta/delirio.html   \n",
       "1  408  Pabllo Vittar  https://www.vagalume.com.br/pabllo-vittar/pron...   \n",
       "2  416         Anitta  https://www.vagalume.com.br/anitta/menina-ma.html   \n",
       "3  419         Anitta    https://www.vagalume.com.br/anitta/vambora.html   \n",
       "4  441         Anitta  https://www.vagalume.com.br/anitta/clube-da-an...   \n",
       "\n",
       "               titulo                                              letra  \\\n",
       "0             Delirio  Si pudiera expresarte Cómo es de inmenso En el...   \n",
       "1  Pronto Pra Te Amar  Quero ouvir um sim Deixa o sentimento fluir Ve...   \n",
       "2           Menina Má  Me olha e deseja que eu veja Mas já digo: \"não...   \n",
       "3             Vambora  Entre por essa porta agora E diga que me adora...   \n",
       "4  Clube da Anittinha  É o clube da anittinha Vem pra cá brincar Pula...   \n",
       "\n",
       "   is_english  is_portuguese  is_spanish  \n",
       "0           0              0           1  \n",
       "1           0              1           0  \n",
       "2           0              1           0  \n",
       "3           0              1           0  \n",
       "4           0              1           0  "
      ]
     },
     "execution_count": 58,
     "metadata": {},
     "output_type": "execute_result"
    }
   ],
   "source": [
    "# Create a new column called is_english\n",
    "musicas['is_english'] = musicas.letra.apply(lambda x: int(detect(x) == 'en'))\n",
    "musicas['is_portuguese'] = musicas.letra.apply(lambda x: int(detect(x) == 'pt'))\n",
    "musicas['is_spanish'] = musicas.letra.apply(lambda x: int(detect(x) == 'es'))\n",
    "\n",
    "musicas.head()"
   ]
  },
  {
   "cell_type": "markdown",
   "metadata": {},
   "source": [
    "# Separando musicas em ingles da Anitta e da Pabllo"
   ]
  },
  {
   "cell_type": "code",
   "execution_count": 61,
   "metadata": {},
   "outputs": [
    {
     "name": "stderr",
     "output_type": "stream",
     "text": [
      "C:\\Users\\SAMUEL~1\\AppData\\Local\\Temp/ipykernel_14176/1404522203.py:1: UserWarning: Boolean Series key will be reindexed to match DataFrame index.\n",
      "  anitta = musicas[musicas.artista == 'Anitta'][musicas.is_portuguese == 1]\n",
      "C:\\Users\\SAMUEL~1\\AppData\\Local\\Temp/ipykernel_14176/1404522203.py:2: UserWarning: Boolean Series key will be reindexed to match DataFrame index.\n",
      "  en_anitta = musicas[musicas.artista == 'Anitta'][musicas.is_english == 1]\n",
      "C:\\Users\\SAMUEL~1\\AppData\\Local\\Temp/ipykernel_14176/1404522203.py:3: UserWarning: Boolean Series key will be reindexed to match DataFrame index.\n",
      "  es_anitta = musicas[musicas.artista == 'Anitta'][musicas.is_spanish == 1]\n",
      "C:\\Users\\SAMUEL~1\\AppData\\Local\\Temp/ipykernel_14176/1404522203.py:5: UserWarning: Boolean Series key will be reindexed to match DataFrame index.\n",
      "  pabllo = musicas[musicas.artista == 'Pabllo Vittar'][musicas.is_portuguese == 1]\n",
      "C:\\Users\\SAMUEL~1\\AppData\\Local\\Temp/ipykernel_14176/1404522203.py:6: UserWarning: Boolean Series key will be reindexed to match DataFrame index.\n",
      "  en_pabllo = musicas[musicas.artista == 'Pabllo Vittar'][musicas.is_english == 1]\n",
      "C:\\Users\\SAMUEL~1\\AppData\\Local\\Temp/ipykernel_14176/1404522203.py:7: UserWarning: Boolean Series key will be reindexed to match DataFrame index.\n",
      "  es_pabllo = musicas[musicas.artista == 'Pabllo Vittar'][musicas.is_spanish == 1]\n"
     ]
    }
   ],
   "source": [
    "anitta = musicas[musicas.artista == 'Anitta'][musicas.is_portuguese == 1]\n",
    "en_anitta = musicas[musicas.artista == 'Anitta'][musicas.is_english == 1]\n",
    "es_anitta = musicas[musicas.artista == 'Anitta'][musicas.is_spanish == 1]\n",
    "\n",
    "pabllo = musicas[musicas.artista == 'Pabllo Vittar'][musicas.is_portuguese == 1]\n",
    "en_pabllo = musicas[musicas.artista == 'Pabllo Vittar'][musicas.is_english == 1]\n",
    "es_pabllo = musicas[musicas.artista == 'Pabllo Vittar'][musicas.is_spanish == 1]"
   ]
  },
  {
   "cell_type": "markdown",
   "metadata": {},
   "source": [
    "### Análise musicas Anitta"
   ]
  },
  {
   "cell_type": "code",
   "execution_count": 65,
   "metadata": {},
   "outputs": [
    {
     "data": {
      "text/plain": [
       "2      olha deseja veja digo vai rolar agora tarde pr...\n",
       "3      porta agora diga adora meia hora pra mudar vid...\n",
       "4      clube anittinha vem pra cá brincar pula canta ...\n",
       "5      nasce dia tão lindo quanto musa viver mãe vida...\n",
       "7      festa toda agora lei felicidade toda alegria s...\n",
       "                             ...                        \n",
       "206    anitta hey olhá lá cê parou chamar veio cumpri...\n",
       "212    intro m c zaac pa pa pa pa pa pa pa pa pa pa p...\n",
       "216    tô apaixonado jura papatinho rabo rabão rabo a...\n",
       "217    vezes pergunto viverei ter saberei esquecer pa...\n",
       "219    ligou pro patrão deixou velho mão foipra rua e...\n",
       "Name: letra, Length: 95, dtype: object"
      ]
     },
     "execution_count": 65,
     "metadata": {},
     "output_type": "execute_result"
    }
   ],
   "source": [
    "anitta.letra = filter_serie(anitta.letra)\n",
    "\n",
    "anitta.letra"
   ]
  },
  {
   "cell_type": "code",
   "execution_count": null,
   "metadata": {},
   "outputs": [],
   "source": []
  },
  {
   "cell_type": "code",
   "execution_count": null,
   "metadata": {},
   "outputs": [],
   "source": []
  }
 ],
 "metadata": {
  "interpreter": {
   "hash": "7c00290ae0f647b852925298c0fa9f685b24793fde77f3b1ecdb20a685ed4d9b"
  },
  "kernelspec": {
   "display_name": "Python 3.9.7 ('base')",
   "language": "python",
   "name": "python3"
  },
  "language_info": {
   "codemirror_mode": {
    "name": "ipython",
    "version": 3
   },
   "file_extension": ".py",
   "mimetype": "text/x-python",
   "name": "python",
   "nbconvert_exporter": "python",
   "pygments_lexer": "ipython3",
   "version": "3.9.7"
  },
  "orig_nbformat": 4
 },
 "nbformat": 4,
 "nbformat_minor": 2
}
